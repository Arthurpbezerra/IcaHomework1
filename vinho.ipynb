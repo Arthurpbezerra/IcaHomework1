{
  "nbformat": 4,
  "nbformat_minor": 0,
  "metadata": {
    "colab": {
      "provenance": [],
      "collapsed_sections": [],
      "include_colab_link": true
    },
    "kernelspec": {
      "name": "python3",
      "display_name": "Python 3"
    },
    "language_info": {
      "name": "python"
    }
  },
  "cells": [
    {
      "cell_type": "markdown",
      "metadata": {
        "id": "view-in-github",
        "colab_type": "text"
      },
      "source": [
        "<a href=\"https://colab.research.google.com/github/Arthurpbezerra/IcaHomework1/blob/main/vinho.ipynb\" target=\"_parent\"><img src=\"https://colab.research.google.com/assets/colab-badge.svg\" alt=\"Open In Colab\"/></a>"
      ]
    },
    {
      "cell_type": "markdown",
      "source": [
        "Importando bibliotecas"
      ],
      "metadata": {
        "id": "IZ8-5fpxQ2N1"
      }
    },
    {
      "cell_type": "code",
      "source": [
        "pip install tabulate"
      ],
      "metadata": {
        "colab": {
          "base_uri": "https://localhost:8080/"
        },
        "id": "9OR3HXtwInnK",
        "outputId": "af8ad075-0550-485f-cf36-570e30dc7824"
      },
      "execution_count": 1,
      "outputs": [
        {
          "output_type": "stream",
          "name": "stdout",
          "text": [
            "Looking in indexes: https://pypi.org/simple, https://us-python.pkg.dev/colab-wheels/public/simple/\n",
            "Requirement already satisfied: tabulate in /usr/local/lib/python3.7/dist-packages (0.8.10)\n"
          ]
        }
      ]
    },
    {
      "cell_type": "code",
      "execution_count": 2,
      "metadata": {
        "id": "u_kR-dndn5j7"
      },
      "outputs": [],
      "source": [
        "import numpy as np\n",
        "import pandas as pd\n",
        "\n",
        "import matplotlib as mpl\n",
        "import matplotlib.pyplot as plt\n",
        "\n",
        "import seaborn as sns\n",
        "import csv \n",
        "from tabulate import tabulate"
      ]
    },
    {
      "cell_type": "markdown",
      "source": [
        "Importando a data"
      ],
      "metadata": {
        "id": "ErdrRKvapkvN"
      }
    },
    {
      "cell_type": "code",
      "source": [
        "url ='https://raw.githubusercontent.com/Arthurpbezerra/IcaHomework1/main/winequality-white.csv'\n",
        "vinho_b= pd.read_csv(url,sep=\";\")\n",
        "vinho_b"
      ],
      "metadata": {
        "colab": {
          "base_uri": "https://localhost:8080/",
          "height": 424
        },
        "id": "Hb_MGexKQE1R",
        "outputId": "592774cc-6882-4088-88c9-2ba8f5c2c023"
      },
      "execution_count": 3,
      "outputs": [
        {
          "output_type": "execute_result",
          "data": {
            "text/plain": [
              "      fixed acidity  volatile acidity  citric acid  residual sugar  chlorides  \\\n",
              "0               7.0              0.27         0.36            20.7      0.045   \n",
              "1               6.3              0.30         0.34             1.6      0.049   \n",
              "2               8.1              0.28         0.40             6.9      0.050   \n",
              "3               7.2              0.23         0.32             8.5      0.058   \n",
              "4               7.2              0.23         0.32             8.5      0.058   \n",
              "...             ...               ...          ...             ...        ...   \n",
              "4893            6.2              0.21         0.29             1.6      0.039   \n",
              "4894            6.6              0.32         0.36             8.0      0.047   \n",
              "4895            6.5              0.24         0.19             1.2      0.041   \n",
              "4896            5.5              0.29         0.30             1.1      0.022   \n",
              "4897            6.0              0.21         0.38             0.8      0.020   \n",
              "\n",
              "      free sulfur dioxide  total sulfur dioxide  density    pH  sulphates  \\\n",
              "0                    45.0                 170.0  1.00100  3.00       0.45   \n",
              "1                    14.0                 132.0  0.99400  3.30       0.49   \n",
              "2                    30.0                  97.0  0.99510  3.26       0.44   \n",
              "3                    47.0                 186.0  0.99560  3.19       0.40   \n",
              "4                    47.0                 186.0  0.99560  3.19       0.40   \n",
              "...                   ...                   ...      ...   ...        ...   \n",
              "4893                 24.0                  92.0  0.99114  3.27       0.50   \n",
              "4894                 57.0                 168.0  0.99490  3.15       0.46   \n",
              "4895                 30.0                 111.0  0.99254  2.99       0.46   \n",
              "4896                 20.0                 110.0  0.98869  3.34       0.38   \n",
              "4897                 22.0                  98.0  0.98941  3.26       0.32   \n",
              "\n",
              "      alcohol  quality  \n",
              "0         8.8        6  \n",
              "1         9.5        6  \n",
              "2        10.1        6  \n",
              "3         9.9        6  \n",
              "4         9.9        6  \n",
              "...       ...      ...  \n",
              "4893     11.2        6  \n",
              "4894      9.6        5  \n",
              "4895      9.4        6  \n",
              "4896     12.8        7  \n",
              "4897     11.8        6  \n",
              "\n",
              "[4898 rows x 12 columns]"
            ],
            "text/html": [
              "\n",
              "  <div id=\"df-d1701817-7c17-48d8-8bf5-81df6da3d1c8\">\n",
              "    <div class=\"colab-df-container\">\n",
              "      <div>\n",
              "<style scoped>\n",
              "    .dataframe tbody tr th:only-of-type {\n",
              "        vertical-align: middle;\n",
              "    }\n",
              "\n",
              "    .dataframe tbody tr th {\n",
              "        vertical-align: top;\n",
              "    }\n",
              "\n",
              "    .dataframe thead th {\n",
              "        text-align: right;\n",
              "    }\n",
              "</style>\n",
              "<table border=\"1\" class=\"dataframe\">\n",
              "  <thead>\n",
              "    <tr style=\"text-align: right;\">\n",
              "      <th></th>\n",
              "      <th>fixed acidity</th>\n",
              "      <th>volatile acidity</th>\n",
              "      <th>citric acid</th>\n",
              "      <th>residual sugar</th>\n",
              "      <th>chlorides</th>\n",
              "      <th>free sulfur dioxide</th>\n",
              "      <th>total sulfur dioxide</th>\n",
              "      <th>density</th>\n",
              "      <th>pH</th>\n",
              "      <th>sulphates</th>\n",
              "      <th>alcohol</th>\n",
              "      <th>quality</th>\n",
              "    </tr>\n",
              "  </thead>\n",
              "  <tbody>\n",
              "    <tr>\n",
              "      <th>0</th>\n",
              "      <td>7.0</td>\n",
              "      <td>0.27</td>\n",
              "      <td>0.36</td>\n",
              "      <td>20.7</td>\n",
              "      <td>0.045</td>\n",
              "      <td>45.0</td>\n",
              "      <td>170.0</td>\n",
              "      <td>1.00100</td>\n",
              "      <td>3.00</td>\n",
              "      <td>0.45</td>\n",
              "      <td>8.8</td>\n",
              "      <td>6</td>\n",
              "    </tr>\n",
              "    <tr>\n",
              "      <th>1</th>\n",
              "      <td>6.3</td>\n",
              "      <td>0.30</td>\n",
              "      <td>0.34</td>\n",
              "      <td>1.6</td>\n",
              "      <td>0.049</td>\n",
              "      <td>14.0</td>\n",
              "      <td>132.0</td>\n",
              "      <td>0.99400</td>\n",
              "      <td>3.30</td>\n",
              "      <td>0.49</td>\n",
              "      <td>9.5</td>\n",
              "      <td>6</td>\n",
              "    </tr>\n",
              "    <tr>\n",
              "      <th>2</th>\n",
              "      <td>8.1</td>\n",
              "      <td>0.28</td>\n",
              "      <td>0.40</td>\n",
              "      <td>6.9</td>\n",
              "      <td>0.050</td>\n",
              "      <td>30.0</td>\n",
              "      <td>97.0</td>\n",
              "      <td>0.99510</td>\n",
              "      <td>3.26</td>\n",
              "      <td>0.44</td>\n",
              "      <td>10.1</td>\n",
              "      <td>6</td>\n",
              "    </tr>\n",
              "    <tr>\n",
              "      <th>3</th>\n",
              "      <td>7.2</td>\n",
              "      <td>0.23</td>\n",
              "      <td>0.32</td>\n",
              "      <td>8.5</td>\n",
              "      <td>0.058</td>\n",
              "      <td>47.0</td>\n",
              "      <td>186.0</td>\n",
              "      <td>0.99560</td>\n",
              "      <td>3.19</td>\n",
              "      <td>0.40</td>\n",
              "      <td>9.9</td>\n",
              "      <td>6</td>\n",
              "    </tr>\n",
              "    <tr>\n",
              "      <th>4</th>\n",
              "      <td>7.2</td>\n",
              "      <td>0.23</td>\n",
              "      <td>0.32</td>\n",
              "      <td>8.5</td>\n",
              "      <td>0.058</td>\n",
              "      <td>47.0</td>\n",
              "      <td>186.0</td>\n",
              "      <td>0.99560</td>\n",
              "      <td>3.19</td>\n",
              "      <td>0.40</td>\n",
              "      <td>9.9</td>\n",
              "      <td>6</td>\n",
              "    </tr>\n",
              "    <tr>\n",
              "      <th>...</th>\n",
              "      <td>...</td>\n",
              "      <td>...</td>\n",
              "      <td>...</td>\n",
              "      <td>...</td>\n",
              "      <td>...</td>\n",
              "      <td>...</td>\n",
              "      <td>...</td>\n",
              "      <td>...</td>\n",
              "      <td>...</td>\n",
              "      <td>...</td>\n",
              "      <td>...</td>\n",
              "      <td>...</td>\n",
              "    </tr>\n",
              "    <tr>\n",
              "      <th>4893</th>\n",
              "      <td>6.2</td>\n",
              "      <td>0.21</td>\n",
              "      <td>0.29</td>\n",
              "      <td>1.6</td>\n",
              "      <td>0.039</td>\n",
              "      <td>24.0</td>\n",
              "      <td>92.0</td>\n",
              "      <td>0.99114</td>\n",
              "      <td>3.27</td>\n",
              "      <td>0.50</td>\n",
              "      <td>11.2</td>\n",
              "      <td>6</td>\n",
              "    </tr>\n",
              "    <tr>\n",
              "      <th>4894</th>\n",
              "      <td>6.6</td>\n",
              "      <td>0.32</td>\n",
              "      <td>0.36</td>\n",
              "      <td>8.0</td>\n",
              "      <td>0.047</td>\n",
              "      <td>57.0</td>\n",
              "      <td>168.0</td>\n",
              "      <td>0.99490</td>\n",
              "      <td>3.15</td>\n",
              "      <td>0.46</td>\n",
              "      <td>9.6</td>\n",
              "      <td>5</td>\n",
              "    </tr>\n",
              "    <tr>\n",
              "      <th>4895</th>\n",
              "      <td>6.5</td>\n",
              "      <td>0.24</td>\n",
              "      <td>0.19</td>\n",
              "      <td>1.2</td>\n",
              "      <td>0.041</td>\n",
              "      <td>30.0</td>\n",
              "      <td>111.0</td>\n",
              "      <td>0.99254</td>\n",
              "      <td>2.99</td>\n",
              "      <td>0.46</td>\n",
              "      <td>9.4</td>\n",
              "      <td>6</td>\n",
              "    </tr>\n",
              "    <tr>\n",
              "      <th>4896</th>\n",
              "      <td>5.5</td>\n",
              "      <td>0.29</td>\n",
              "      <td>0.30</td>\n",
              "      <td>1.1</td>\n",
              "      <td>0.022</td>\n",
              "      <td>20.0</td>\n",
              "      <td>110.0</td>\n",
              "      <td>0.98869</td>\n",
              "      <td>3.34</td>\n",
              "      <td>0.38</td>\n",
              "      <td>12.8</td>\n",
              "      <td>7</td>\n",
              "    </tr>\n",
              "    <tr>\n",
              "      <th>4897</th>\n",
              "      <td>6.0</td>\n",
              "      <td>0.21</td>\n",
              "      <td>0.38</td>\n",
              "      <td>0.8</td>\n",
              "      <td>0.020</td>\n",
              "      <td>22.0</td>\n",
              "      <td>98.0</td>\n",
              "      <td>0.98941</td>\n",
              "      <td>3.26</td>\n",
              "      <td>0.32</td>\n",
              "      <td>11.8</td>\n",
              "      <td>6</td>\n",
              "    </tr>\n",
              "  </tbody>\n",
              "</table>\n",
              "<p>4898 rows × 12 columns</p>\n",
              "</div>\n",
              "      <button class=\"colab-df-convert\" onclick=\"convertToInteractive('df-d1701817-7c17-48d8-8bf5-81df6da3d1c8')\"\n",
              "              title=\"Convert this dataframe to an interactive table.\"\n",
              "              style=\"display:none;\">\n",
              "        \n",
              "  <svg xmlns=\"http://www.w3.org/2000/svg\" height=\"24px\"viewBox=\"0 0 24 24\"\n",
              "       width=\"24px\">\n",
              "    <path d=\"M0 0h24v24H0V0z\" fill=\"none\"/>\n",
              "    <path d=\"M18.56 5.44l.94 2.06.94-2.06 2.06-.94-2.06-.94-.94-2.06-.94 2.06-2.06.94zm-11 1L8.5 8.5l.94-2.06 2.06-.94-2.06-.94L8.5 2.5l-.94 2.06-2.06.94zm10 10l.94 2.06.94-2.06 2.06-.94-2.06-.94-.94-2.06-.94 2.06-2.06.94z\"/><path d=\"M17.41 7.96l-1.37-1.37c-.4-.4-.92-.59-1.43-.59-.52 0-1.04.2-1.43.59L10.3 9.45l-7.72 7.72c-.78.78-.78 2.05 0 2.83L4 21.41c.39.39.9.59 1.41.59.51 0 1.02-.2 1.41-.59l7.78-7.78 2.81-2.81c.8-.78.8-2.07 0-2.86zM5.41 20L4 18.59l7.72-7.72 1.47 1.35L5.41 20z\"/>\n",
              "  </svg>\n",
              "      </button>\n",
              "      \n",
              "  <style>\n",
              "    .colab-df-container {\n",
              "      display:flex;\n",
              "      flex-wrap:wrap;\n",
              "      gap: 12px;\n",
              "    }\n",
              "\n",
              "    .colab-df-convert {\n",
              "      background-color: #E8F0FE;\n",
              "      border: none;\n",
              "      border-radius: 50%;\n",
              "      cursor: pointer;\n",
              "      display: none;\n",
              "      fill: #1967D2;\n",
              "      height: 32px;\n",
              "      padding: 0 0 0 0;\n",
              "      width: 32px;\n",
              "    }\n",
              "\n",
              "    .colab-df-convert:hover {\n",
              "      background-color: #E2EBFA;\n",
              "      box-shadow: 0px 1px 2px rgba(60, 64, 67, 0.3), 0px 1px 3px 1px rgba(60, 64, 67, 0.15);\n",
              "      fill: #174EA6;\n",
              "    }\n",
              "\n",
              "    [theme=dark] .colab-df-convert {\n",
              "      background-color: #3B4455;\n",
              "      fill: #D2E3FC;\n",
              "    }\n",
              "\n",
              "    [theme=dark] .colab-df-convert:hover {\n",
              "      background-color: #434B5C;\n",
              "      box-shadow: 0px 1px 3px 1px rgba(0, 0, 0, 0.15);\n",
              "      filter: drop-shadow(0px 1px 2px rgba(0, 0, 0, 0.3));\n",
              "      fill: #FFFFFF;\n",
              "    }\n",
              "  </style>\n",
              "\n",
              "      <script>\n",
              "        const buttonEl =\n",
              "          document.querySelector('#df-d1701817-7c17-48d8-8bf5-81df6da3d1c8 button.colab-df-convert');\n",
              "        buttonEl.style.display =\n",
              "          google.colab.kernel.accessAllowed ? 'block' : 'none';\n",
              "\n",
              "        async function convertToInteractive(key) {\n",
              "          const element = document.querySelector('#df-d1701817-7c17-48d8-8bf5-81df6da3d1c8');\n",
              "          const dataTable =\n",
              "            await google.colab.kernel.invokeFunction('convertToInteractive',\n",
              "                                                     [key], {});\n",
              "          if (!dataTable) return;\n",
              "\n",
              "          const docLinkHtml = 'Like what you see? Visit the ' +\n",
              "            '<a target=\"_blank\" href=https://colab.research.google.com/notebooks/data_table.ipynb>data table notebook</a>'\n",
              "            + ' to learn more about interactive tables.';\n",
              "          element.innerHTML = '';\n",
              "          dataTable['output_type'] = 'display_data';\n",
              "          await google.colab.output.renderOutput(dataTable, element);\n",
              "          const docLink = document.createElement('div');\n",
              "          docLink.innerHTML = docLinkHtml;\n",
              "          element.appendChild(docLink);\n",
              "        }\n",
              "      </script>\n",
              "    </div>\n",
              "  </div>\n",
              "  "
            ]
          },
          "metadata": {},
          "execution_count": 3
        }
      ]
    },
    {
      "cell_type": "markdown",
      "source": [
        "Definindo as classes dos vinhos\n",
        "<br>\n",
        "bqw = bad quality white, 183 atributos\n",
        "<br>\n",
        "nqw = norma quality white, 4535 atributos\n",
        "<br>\n",
        "gqw = good quality white, 180 atributos"
      ],
      "metadata": {
        "id": "ptlqg_Sm0weu"
      }
    },
    {
      "cell_type": "code",
      "source": [
        "bqw = vinho_b[(vinho_b.quality <=4)]"
      ],
      "metadata": {
        "id": "PP0vXxCvucwr"
      },
      "execution_count": 4,
      "outputs": []
    },
    {
      "cell_type": "code",
      "source": [
        "nqw = vinho_b[(vinho_b.quality >= 5) & (vinho_b.quality<=7)]"
      ],
      "metadata": {
        "id": "qLVNqyn2zyrP"
      },
      "execution_count": 5,
      "outputs": []
    },
    {
      "cell_type": "code",
      "source": [
        "gqw = vinho_b[(vinho_b.quality >=8)]"
      ],
      "metadata": {
        "id": "U0q0RRq40MTc"
      },
      "execution_count": 6,
      "outputs": []
    },
    {
      "cell_type": "code",
      "source": [
        "medias = vinho_b.mean(axis=0)\n",
        "print(medias)"
      ],
      "metadata": {
        "colab": {
          "base_uri": "https://localhost:8080/"
        },
        "id": "kczBl-fX4B7n",
        "outputId": "213ef8da-509f-45f0-f437-f62ce371c4c1"
      },
      "execution_count": 7,
      "outputs": [
        {
          "output_type": "stream",
          "name": "stdout",
          "text": [
            "fixed acidity             6.854788\n",
            "volatile acidity          0.278241\n",
            "citric acid               0.334192\n",
            "residual sugar            6.391415\n",
            "chlorides                 0.045772\n",
            "free sulfur dioxide      35.308085\n",
            "total sulfur dioxide    138.360657\n",
            "density                   0.994027\n",
            "pH                        3.188267\n",
            "sulphates                 0.489847\n",
            "alcohol                  10.514267\n",
            "quality                   5.877909\n",
            "dtype: float64\n"
          ]
        }
      ]
    },
    {
      "cell_type": "markdown",
      "source": [
        "https://www.python-graph-gallery.com/basic-histogram-in-matplotlib Como fazer os Histogramas"
      ],
      "metadata": {
        "id": "blazqQCO34UZ"
      }
    },
    {
      "cell_type": "code",
      "source": [
        "fig, ax = plt.subplots(figsize = (9,9))\n",
        "plt.title(\"Histograma da Acidez Fixada\")\n",
        "plt.ylabel(\"Frequência\")\n",
        "ax.hist(vinho_b[\"fixed acidity\"], bins= 50, edgecolor=\"black\", color=\"green\")"
      ],
      "metadata": {
        "colab": {
          "base_uri": "https://localhost:8080/",
          "height": 779
        },
        "id": "K_PtDtPIhrgJ",
        "outputId": "92b48b0f-c48d-4e43-b3dd-04321566bb33"
      },
      "execution_count": 8,
      "outputs": [
        {
          "output_type": "execute_result",
          "data": {
            "text/plain": [
              "(array([  2.,   2.,   3.,   2.,  14.,  31.,  51.,  55., 102., 209., 287.,\n",
              "        349., 694., 526., 549., 432., 386., 317., 246., 167., 136., 108.,\n",
              "         67.,  40.,  34.,  44.,  14.,   7.,  12.,   5.,   1.,   2.,   0.,\n",
              "          2.,   0.,   0.,   0.,   0.,   1.,   0.,   0.,   0.,   0.,   0.,\n",
              "          0.,   0.,   0.,   0.,   0.,   1.]),\n",
              " array([ 3.8  ,  4.008,  4.216,  4.424,  4.632,  4.84 ,  5.048,  5.256,\n",
              "         5.464,  5.672,  5.88 ,  6.088,  6.296,  6.504,  6.712,  6.92 ,\n",
              "         7.128,  7.336,  7.544,  7.752,  7.96 ,  8.168,  8.376,  8.584,\n",
              "         8.792,  9.   ,  9.208,  9.416,  9.624,  9.832, 10.04 , 10.248,\n",
              "        10.456, 10.664, 10.872, 11.08 , 11.288, 11.496, 11.704, 11.912,\n",
              "        12.12 , 12.328, 12.536, 12.744, 12.952, 13.16 , 13.368, 13.576,\n",
              "        13.784, 13.992, 14.2  ]),\n",
              " <a list of 50 Patch objects>)"
            ]
          },
          "metadata": {},
          "execution_count": 8
        },
        {
          "output_type": "display_data",
          "data": {
            "text/plain": [
              "<Figure size 648x648 with 1 Axes>"
            ],
            "image/png": "[encoded data removed]"
          },
          "metadata": {
            "needs_background": "light"
          }
        }
      ]
    },
    {
      "cell_type": "code",
      "source": [
        "fig, ax = plt.subplots(figsize = (9,9))\n",
        "plt.title(\"Histograma da Acidez Volátil\")\n",
        "plt.ylabel(\"Frequência\")\n",
        "ax.hist(vinho_b[\"volatile acidity\"], bins= 50, edgecolor=\"black\", color=\"darkgreen\")"
      ],
      "metadata": {
        "id": "Mnj-I1YNiIs4",
        "outputId": "46f9e973-3ca2-407d-f85b-ae91b0081fe0",
        "colab": {
          "base_uri": "https://localhost:8080/",
          "height": 779
        }
      },
      "execution_count": 9,
      "outputs": [
        {
          "output_type": "execute_result",
          "data": {
            "text/plain": [
              "(array([ 12.,  56., 104., 238., 320., 389., 425., 477., 485., 489., 366.,\n",
              "        338., 287., 193., 132., 123.,  96.,  87.,  57.,  38.,  30.,  20.,\n",
              "         19.,  25.,  13.,  20.,  11.,   9.,  12.,   6.,   6.,   1.,   2.,\n",
              "          2.,   2.,   0.,   1.,   1.,   0.,   0.,   2.,   1.,   0.,   1.,\n",
              "          0.,   1.,   0.,   0.,   0.,   1.]),\n",
              " array([0.08  , 0.1004, 0.1208, 0.1412, 0.1616, 0.182 , 0.2024, 0.2228,\n",
              "        0.2432, 0.2636, 0.284 , 0.3044, 0.3248, 0.3452, 0.3656, 0.386 ,\n",
              "        0.4064, 0.4268, 0.4472, 0.4676, 0.488 , 0.5084, 0.5288, 0.5492,\n",
              "        0.5696, 0.59  , 0.6104, 0.6308, 0.6512, 0.6716, 0.692 , 0.7124,\n",
              "        0.7328, 0.7532, 0.7736, 0.794 , 0.8144, 0.8348, 0.8552, 0.8756,\n",
              "        0.896 , 0.9164, 0.9368, 0.9572, 0.9776, 0.998 , 1.0184, 1.0388,\n",
              "        1.0592, 1.0796, 1.1   ]),\n",
              " <a list of 50 Patch objects>)"
            ]
          },
          "metadata": {},
          "execution_count": 9
        },
        {
          "output_type": "display_data",
          "data": {
            "text/plain": [
              "<Figure size 648x648 with 1 Axes>"
            ],
            "image/png": "[encoded data removed]"
          },
          "metadata": {
            "needs_background": "light"
          }
        }
      ]
    },
    {
      "cell_type": "code",
      "source": [
        "fig, ax = plt.subplots(figsize = (9,9))\n",
        "plt.title(\"Histograma da Acidez Cítrica\")\n",
        "plt.ylabel(\"Frequência\")\n",
        "ax.hist(vinho_b[\"citric acid\"], bins= 50, edgecolor=\"black\", color=\"lightgreen\")"
      ],
      "metadata": {
        "colab": {
          "base_uri": "https://localhost:8080/",
          "height": 779
        },
        "id": "D0HPnp_qc0sh",
        "outputId": "3bbd8f81-74d7-4b30-a7a4-901c4d778c0b"
      },
      "execution_count": 10,
      "outputs": [
        {
          "output_type": "execute_result",
          "data": {
            "text/plain": [
              "(array([ 34.,  23.,  28.,  51.,  83., 124., 323., 536., 721., 947., 539.,\n",
              "        357., 331., 160., 292.,  99.,  52.,  40.,  33.,  21.,  19.,  22.,\n",
              "         41.,   4.,   6.,   1.,   1.,   2.,   0.,   1.,   5.,   0.,   0.,\n",
              "          0.,   0.,   0.,   0.,   1.,   0.,   0.,   0.,   0.,   0.,   0.,\n",
              "          0.,   0.,   0.,   0.,   0.,   1.]),\n",
              " array([0.    , 0.0332, 0.0664, 0.0996, 0.1328, 0.166 , 0.1992, 0.2324,\n",
              "        0.2656, 0.2988, 0.332 , 0.3652, 0.3984, 0.4316, 0.4648, 0.498 ,\n",
              "        0.5312, 0.5644, 0.5976, 0.6308, 0.664 , 0.6972, 0.7304, 0.7636,\n",
              "        0.7968, 0.83  , 0.8632, 0.8964, 0.9296, 0.9628, 0.996 , 1.0292,\n",
              "        1.0624, 1.0956, 1.1288, 1.162 , 1.1952, 1.2284, 1.2616, 1.2948,\n",
              "        1.328 , 1.3612, 1.3944, 1.4276, 1.4608, 1.494 , 1.5272, 1.5604,\n",
              "        1.5936, 1.6268, 1.66  ]),\n",
              " <a list of 50 Patch objects>)"
            ]
          },
          "metadata": {},
          "execution_count": 10
        },
        {
          "output_type": "display_data",
          "data": {
            "text/plain": [
              "<Figure size 648x648 with 1 Axes>"
            ],
            "image/png": "[encoded data removed]"
          },
          "metadata": {
            "needs_background": "light"
          }
        }
      ]
    },
    {
      "cell_type": "code",
      "source": [
        "fig, ax = plt.subplots(figsize = (9,9))\n",
        "plt.title(\"Histograma dos Cloretos\")\n",
        "plt.ylabel(\"Frequência\")\n",
        "ax.hist(vinho_b[\"chlorides\"], bins= 50, edgecolor=\"black\", color=\"lightblue\")"
      ],
      "metadata": {
        "colab": {
          "base_uri": "https://localhost:8080/",
          "height": 865
        },
        "id": "XMccYOEVc1XW",
        "outputId": "ac19933e-9846-4467-ae57-5a7119d7437c"
      },
      "execution_count": 11,
      "outputs": [
        {
          "output_type": "execute_result",
          "data": {
            "text/plain": [
              "(array([1.100e+01, 8.300e+01, 3.620e+02, 7.410e+02, 1.197e+03, 1.171e+03,\n",
              "        7.670e+02, 2.470e+02, 1.070e+02, 3.700e+01, 2.000e+01, 1.800e+01,\n",
              "        2.200e+01, 6.000e+00, 7.000e+00, 3.000e+00, 1.500e+01, 6.000e+00,\n",
              "        6.000e+00, 5.000e+00, 8.000e+00, 8.000e+00, 3.000e+00, 9.000e+00,\n",
              "        1.100e+01, 4.000e+00, 3.000e+00, 3.000e+00, 4.000e+00, 4.000e+00,\n",
              "        2.000e+00, 0.000e+00, 0.000e+00, 0.000e+00, 3.000e+00, 0.000e+00,\n",
              "        1.000e+00, 0.000e+00, 1.000e+00, 0.000e+00, 0.000e+00, 1.000e+00,\n",
              "        0.000e+00, 1.000e+00, 0.000e+00, 0.000e+00, 0.000e+00, 0.000e+00,\n",
              "        0.000e+00, 1.000e+00]),\n",
              " array([0.009  , 0.01574, 0.02248, 0.02922, 0.03596, 0.0427 , 0.04944,\n",
              "        0.05618, 0.06292, 0.06966, 0.0764 , 0.08314, 0.08988, 0.09662,\n",
              "        0.10336, 0.1101 , 0.11684, 0.12358, 0.13032, 0.13706, 0.1438 ,\n",
              "        0.15054, 0.15728, 0.16402, 0.17076, 0.1775 , 0.18424, 0.19098,\n",
              "        0.19772, 0.20446, 0.2112 , 0.21794, 0.22468, 0.23142, 0.23816,\n",
              "        0.2449 , 0.25164, 0.25838, 0.26512, 0.27186, 0.2786 , 0.28534,\n",
              "        0.29208, 0.29882, 0.30556, 0.3123 , 0.31904, 0.32578, 0.33252,\n",
              "        0.33926, 0.346  ]),\n",
              " <a list of 50 Patch objects>)"
            ]
          },
          "metadata": {},
          "execution_count": 11
        },
        {
          "output_type": "display_data",
          "data": {
            "text/plain": [
              "<Figure size 648x648 with 1 Axes>"
            ],
            "image/png": "[encoded data removed]"
          },
          "metadata": {
            "needs_background": "light"
          }
        }
      ]
    },
    {
      "cell_type": "code",
      "source": [
        "fig, ax = plt.subplots(figsize = (9,9))\n",
        "plt.title(\"Histograma do Dióxido de Enxofre Livre\")\n",
        "plt.ylabel(\"Frequência\")\n",
        "ax.hist(vinho_b[\"free sulfur dioxide\"], bins= 50, edgecolor=\"black\", color=\"lightyellow\")"
      ],
      "metadata": {
        "colab": {
          "base_uri": "https://localhost:8080/",
          "height": 779
        },
        "id": "XISJN8lec14M",
        "outputId": "9068952e-4679-46c8-d0eb-291c688cff29"
      },
      "execution_count": 12,
      "outputs": [
        {
          "output_type": "execute_result",
          "data": {
            "text/plain": [
              "(array([104., 271., 459., 526., 712., 739., 600., 400., 420., 281., 187.,\n",
              "         92.,  40.,  26.,  14.,   2.,   8.,   4.,   4.,   1.,   2.,   2.,\n",
              "          1.,   1.,   0.,   1.,   0.,   0.,   0.,   0.,   0.,   0.,   0.,\n",
              "          0.,   0.,   0.,   0.,   0.,   0.,   0.,   0.,   0.,   0.,   0.,\n",
              "          0.,   0.,   0.,   0.,   0.,   1.]),\n",
              " array([  2.  ,   7.74,  13.48,  19.22,  24.96,  30.7 ,  36.44,  42.18,\n",
              "         47.92,  53.66,  59.4 ,  65.14,  70.88,  76.62,  82.36,  88.1 ,\n",
              "         93.84,  99.58, 105.32, 111.06, 116.8 , 122.54, 128.28, 134.02,\n",
              "        139.76, 145.5 , 151.24, 156.98, 162.72, 168.46, 174.2 , 179.94,\n",
              "        185.68, 191.42, 197.16, 202.9 , 208.64, 214.38, 220.12, 225.86,\n",
              "        231.6 , 237.34, 243.08, 248.82, 254.56, 260.3 , 266.04, 271.78,\n",
              "        277.52, 283.26, 289.  ]),\n",
              " <a list of 50 Patch objects>)"
            ]
          },
          "metadata": {},
          "execution_count": 12
        },
        {
          "output_type": "display_data",
          "data": {
            "text/plain": [
              "<Figure size 648x648 with 1 Axes>"
            ],
            "image/png": "[encoded data removed]"
          },
          "metadata": {
            "needs_background": "light"
          }
        }
      ]
    },
    {
      "cell_type": "code",
      "source": [
        "fig, ax = plt.subplots(figsize = (9,9))\n",
        "plt.title(\"Histograma do Dióxido de Enxofre Total\")\n",
        "plt.ylabel(\"Frequência\")\n",
        "ax.hist(vinho_b[\"total sulfur dioxide\"], bins= 50, edgecolor=\"black\", color=\"gold\")"
      ],
      "metadata": {
        "colab": {
          "base_uri": "https://localhost:8080/",
          "height": 779
        },
        "id": "3PZv0ETjc2bV",
        "outputId": "6aa5b2e2-9fbc-4f9d-e70d-6b0cd041e033"
      },
      "execution_count": 13,
      "outputs": [
        {
          "output_type": "execute_result",
          "data": {
            "text/plain": [
              "(array([  2.,   9.,  12.,  10.,  19.,  36.,  78., 123., 182., 263., 307.,\n",
              "        378., 446., 365., 388., 295., 357., 318., 250., 250., 230., 161.,\n",
              "        113., 107.,  73.,  46.,  31.,  25.,  12.,   2.,   2.,   1.,   0.,\n",
              "          1.,   2.,   1.,   0.,   0.,   1.,   0.,   0.,   1.,   0.,   0.,\n",
              "          0.,   0.,   0.,   0.,   0.,   1.]),\n",
              " array([  9.  ,  17.62,  26.24,  34.86,  43.48,  52.1 ,  60.72,  69.34,\n",
              "         77.96,  86.58,  95.2 , 103.82, 112.44, 121.06, 129.68, 138.3 ,\n",
              "        146.92, 155.54, 164.16, 172.78, 181.4 , 190.02, 198.64, 207.26,\n",
              "        215.88, 224.5 , 233.12, 241.74, 250.36, 258.98, 267.6 , 276.22,\n",
              "        284.84, 293.46, 302.08, 310.7 , 319.32, 327.94, 336.56, 345.18,\n",
              "        353.8 , 362.42, 371.04, 379.66, 388.28, 396.9 , 405.52, 414.14,\n",
              "        422.76, 431.38, 440.  ]),\n",
              " <a list of 50 Patch objects>)"
            ]
          },
          "metadata": {},
          "execution_count": 13
        },
        {
          "output_type": "display_data",
          "data": {
            "text/plain": [
              "<Figure size 648x648 with 1 Axes>"
            ],
            "image/png": "[encoded data removed]"
          },
          "metadata": {
            "needs_background": "light"
          }
        }
      ]
    },
    {
      "cell_type": "code",
      "source": [
        "fig, ax = plt.subplots(figsize = (9,9))\n",
        "plt.title(\"Histograma da Densidade\")\n",
        "plt.ylabel(\"Frequência\")\n",
        "ax.hist(vinho_b[\"density\"], bins= 50, edgecolor=\"black\", color=\"indigo\")"
      ],
      "metadata": {
        "colab": {
          "base_uri": "https://localhost:8080/",
          "height": 813
        },
        "id": "WrDb2CF9c2tx",
        "outputId": "6db77450-0aa5-4b68-8a4f-468ea8436813"
      },
      "execution_count": 14,
      "outputs": [
        {
          "output_type": "execute_result",
          "data": {
            "text/plain": [
              "(array([ 14.,  93., 346., 496., 629., 641., 545., 556., 467., 353., 395.,\n",
              "        212., 122.,  18.,   6.,   2.,   0.,   0.,   0.,   0.,   0.,   0.,\n",
              "          2.,   0.,   0.,   0.,   0.,   0.,   0.,   0.,   0.,   0.,   0.,\n",
              "          0.,   0.,   0.,   0.,   0.,   0.,   0.,   0.,   0.,   0.,   0.,\n",
              "          0.,   0.,   0.,   0.,   0.,   1.]),\n",
              " array([0.98711  , 0.9881474, 0.9891848, 0.9902222, 0.9912596, 0.992297 ,\n",
              "        0.9933344, 0.9943718, 0.9954092, 0.9964466, 0.997484 , 0.9985214,\n",
              "        0.9995588, 1.0005962, 1.0016336, 1.002671 , 1.0037084, 1.0047458,\n",
              "        1.0057832, 1.0068206, 1.007858 , 1.0088954, 1.0099328, 1.0109702,\n",
              "        1.0120076, 1.013045 , 1.0140824, 1.0151198, 1.0161572, 1.0171946,\n",
              "        1.018232 , 1.0192694, 1.0203068, 1.0213442, 1.0223816, 1.023419 ,\n",
              "        1.0244564, 1.0254938, 1.0265312, 1.0275686, 1.028606 , 1.0296434,\n",
              "        1.0306808, 1.0317182, 1.0327556, 1.033793 , 1.0348304, 1.0358678,\n",
              "        1.0369052, 1.0379426, 1.03898  ]),\n",
              " <a list of 50 Patch objects>)"
            ]
          },
          "metadata": {},
          "execution_count": 14
        },
        {
          "output_type": "display_data",
          "data": {
            "text/plain": [
              "<Figure size 648x648 with 1 Axes>"
            ],
            "image/png": "[encoded data removed]"
          },
          "metadata": {
            "needs_background": "light"
          }
        }
      ]
    },
    {
      "cell_type": "code",
      "source": [
        "fig, ax = plt.subplots(figsize = (9,9))\n",
        "plt.title(\"Histograma do pH\")\n",
        "plt.ylabel(\"Frequência\")\n",
        "ax.hist(vinho_b[\"pH\"], bins= 50, edgecolor=\"black\", color=\"darkblue\")"
      ],
      "metadata": {
        "colab": {
          "base_uri": "https://localhost:8080/",
          "height": 761
        },
        "id": "UpHgVD3Jc3Dg",
        "outputId": "2da35753-6282-46bc-fe94-e0ede985672e"
      },
      "execution_count": 15,
      "outputs": [
        {
          "output_type": "execute_result",
          "data": {
            "text/plain": [
              "(array([  2.,   0.,   1.,   6.,   1.,  14.,  18.,  28.,  46.,  56., 124.,\n",
              "         73., 142., 117., 175., 283., 228., 261., 251., 308., 426., 282.,\n",
              "        241., 248., 210., 257., 172., 135., 127., 132., 137.,  78.,  53.,\n",
              "         45.,  42.,  52.,  30.,  23.,  13.,  11.,  11.,   8.,   9.,   3.,\n",
              "          3.,   3.,   4.,   4.,   1.,   4.]),\n",
              " array([2.72 , 2.742, 2.764, 2.786, 2.808, 2.83 , 2.852, 2.874, 2.896,\n",
              "        2.918, 2.94 , 2.962, 2.984, 3.006, 3.028, 3.05 , 3.072, 3.094,\n",
              "        3.116, 3.138, 3.16 , 3.182, 3.204, 3.226, 3.248, 3.27 , 3.292,\n",
              "        3.314, 3.336, 3.358, 3.38 , 3.402, 3.424, 3.446, 3.468, 3.49 ,\n",
              "        3.512, 3.534, 3.556, 3.578, 3.6  , 3.622, 3.644, 3.666, 3.688,\n",
              "        3.71 , 3.732, 3.754, 3.776, 3.798, 3.82 ]),\n",
              " <a list of 50 Patch objects>)"
            ]
          },
          "metadata": {},
          "execution_count": 15
        },
        {
          "output_type": "display_data",
          "data": {
            "text/plain": [
              "<Figure size 648x648 with 1 Axes>"
            ],
            "image/png": "[encoded data removed]"
          },
          "metadata": {
            "needs_background": "light"
          }
        }
      ]
    },
    {
      "cell_type": "code",
      "source": [
        "fig, ax = plt.subplots(figsize = (9,9))\n",
        "plt.title(\"Histograma dos Sulfatos\")\n",
        "plt.ylabel(\"Frequência\")\n",
        "ax.hist(vinho_b[\"sulphates\"], bins= 50, edgecolor=\"black\", color=\"yellow\")"
      ],
      "metadata": {
        "colab": {
          "base_uri": "https://localhost:8080/",
          "height": 779
        },
        "id": "X4s6a33wc3qO",
        "outputId": "31236a59-9072-4c04-a3bf-ce9463f4e846"
      },
      "execution_count": 16,
      "outputs": [
        {
          "output_type": "execute_result",
          "data": {
            "text/plain": [
              "(array([  2.,   4.,  17.,  13.,  47.,  89., 143.,  85., 249., 365., 168.,\n",
              "        320., 377., 403., 172., 345., 389., 156., 302., 210., 182.,  97.,\n",
              "        133., 116.,  95.,  36.,  79.,  57.,  18.,  45.,  41.,  35.,  19.,\n",
              "         21.,  18.,   2.,   7.,   4.,   8.,   5.,   2.,   2.,   5.,   4.,\n",
              "          7.,   2.,   0.,   0.,   1.,   1.]),\n",
              " array([0.22  , 0.2372, 0.2544, 0.2716, 0.2888, 0.306 , 0.3232, 0.3404,\n",
              "        0.3576, 0.3748, 0.392 , 0.4092, 0.4264, 0.4436, 0.4608, 0.478 ,\n",
              "        0.4952, 0.5124, 0.5296, 0.5468, 0.564 , 0.5812, 0.5984, 0.6156,\n",
              "        0.6328, 0.65  , 0.6672, 0.6844, 0.7016, 0.7188, 0.736 , 0.7532,\n",
              "        0.7704, 0.7876, 0.8048, 0.822 , 0.8392, 0.8564, 0.8736, 0.8908,\n",
              "        0.908 , 0.9252, 0.9424, 0.9596, 0.9768, 0.994 , 1.0112, 1.0284,\n",
              "        1.0456, 1.0628, 1.08  ]),\n",
              " <a list of 50 Patch objects>)"
            ]
          },
          "metadata": {},
          "execution_count": 16
        },
        {
          "output_type": "display_data",
          "data": {
            "text/plain": [
              "<Figure size 648x648 with 1 Axes>"
            ],
            "image/png": "[encoded data removed]"
          },
          "metadata": {
            "needs_background": "light"
          }
        }
      ]
    },
    {
      "cell_type": "code",
      "source": [
        "fig, ax = plt.subplots(figsize = (9,9))\n",
        "plt.title(\"Histograma do Álcool\")\n",
        "plt.ylabel(\"Frequência\")\n",
        "ax.hist(vinho_b[\"alcohol\"], bins= 50, edgecolor=\"black\", color=\"red\")"
      ],
      "metadata": {
        "colab": {
          "base_uri": "https://localhost:8080/",
          "height": 781
        },
        "id": "M1xF1kbCc3-Z",
        "outputId": "8630910c-535a-4e53-e386-2ab3bbd6bded"
      },
      "execution_count": 17,
      "outputs": [
        {
          "output_type": "execute_result",
          "data": {
            "text/plain": [
              "(array([  2.,   0.,   0.,   3.,  32.,  78., 107.,  95., 329., 199., 134.,\n",
              "        229., 361., 108., 137., 109., 277., 135.,  85., 155., 278.,  97.,\n",
              "        135.,  93., 162., 195., 105., 129.,  89., 107.,  63.,  57., 104.,\n",
              "        139.,  64.,  68.,  83., 119.,  57.,  41.,  37.,  33.,   7.,  20.,\n",
              "         13.,  16.,   2.,   3.,   6.,   1.]),\n",
              " array([ 8.   ,  8.124,  8.248,  8.372,  8.496,  8.62 ,  8.744,  8.868,\n",
              "         8.992,  9.116,  9.24 ,  9.364,  9.488,  9.612,  9.736,  9.86 ,\n",
              "         9.984, 10.108, 10.232, 10.356, 10.48 , 10.604, 10.728, 10.852,\n",
              "        10.976, 11.1  , 11.224, 11.348, 11.472, 11.596, 11.72 , 11.844,\n",
              "        11.968, 12.092, 12.216, 12.34 , 12.464, 12.588, 12.712, 12.836,\n",
              "        12.96 , 13.084, 13.208, 13.332, 13.456, 13.58 , 13.704, 13.828,\n",
              "        13.952, 14.076, 14.2  ]),\n",
              " <a list of 50 Patch objects>)"
            ]
          },
          "metadata": {},
          "execution_count": 17
        },
        {
          "output_type": "display_data",
          "data": {
            "text/plain": [
              "<Figure size 648x648 with 1 Axes>"
            ],
            "image/png": "[encoded data removed]"
          },
          "metadata": {
            "needs_background": "light"
          }
        }
      ]
    },
    {
      "cell_type": "code",
      "source": [
        "fig, ax = plt.subplots(figsize = (9,9))\n",
        "plt.title(\"Histograma da Qualidade\")\n",
        "plt.ylabel(\"Frequência\")\n",
        "ax.hist(vinho_b[\"quality\"], bins= 50, edgecolor=\"black\", color=\"blue\")"
      ],
      "metadata": {
        "colab": {
          "base_uri": "https://localhost:8080/",
          "height": 761
        },
        "id": "KhmIkavcc4jT",
        "outputId": "c33f321e-19c6-4307-d53e-0316900fd82e"
      },
      "execution_count": 18,
      "outputs": [
        {
          "output_type": "execute_result",
          "data": {
            "text/plain": [
              "(array([  20.,    0.,    0.,    0.,    0.,    0.,    0.,    0.,  163.,\n",
              "           0.,    0.,    0.,    0.,    0.,    0.,    0., 1457.,    0.,\n",
              "           0.,    0.,    0.,    0.,    0.,    0.,    0., 2198.,    0.,\n",
              "           0.,    0.,    0.,    0.,    0.,    0.,  880.,    0.,    0.,\n",
              "           0.,    0.,    0.,    0.,    0.,  175.,    0.,    0.,    0.,\n",
              "           0.,    0.,    0.,    0.,    5.]),\n",
              " array([3.  , 3.12, 3.24, 3.36, 3.48, 3.6 , 3.72, 3.84, 3.96, 4.08, 4.2 ,\n",
              "        4.32, 4.44, 4.56, 4.68, 4.8 , 4.92, 5.04, 5.16, 5.28, 5.4 , 5.52,\n",
              "        5.64, 5.76, 5.88, 6.  , 6.12, 6.24, 6.36, 6.48, 6.6 , 6.72, 6.84,\n",
              "        6.96, 7.08, 7.2 , 7.32, 7.44, 7.56, 7.68, 7.8 , 7.92, 8.04, 8.16,\n",
              "        8.28, 8.4 , 8.52, 8.64, 8.76, 8.88, 9.  ]),\n",
              " <a list of 50 Patch objects>)"
            ]
          },
          "metadata": {},
          "execution_count": 18
        },
        {
          "output_type": "display_data",
          "data": {
            "text/plain": [
              "<Figure size 648x648 with 1 Axes>"
            ],
            "image/png": "[encoded data removed]"
          },
          "metadata": {
            "needs_background": "light"
          }
        }
      ]
    },
    {
      "cell_type": "markdown",
      "source": [
        "UNCONDITIONAL mono-variate analysis "
      ],
      "metadata": {
        "id": "WNcvcb5BTKAW"
      }
    },
    {
      "cell_type": "markdown",
      "source": [
        "MÉDIAS DOS PREDITORES"
      ],
      "metadata": {
        "id": "rLWz9HvO74Gh"
      }
    },
    {
      "cell_type": "code",
      "source": [
        "fa_mean = vinho_b[\"fixed acidity\"].mean()\n",
        "va_mean = vinho_b[\"volatile acidity\"].mean()\n",
        "ca_mean = vinho_b[\"citric acid\"].mean()\n",
        "ch_mean = vinho_b[\"chlorides\"].mean()\n",
        "fsd_mean = vinho_b[\"free sulfur dioxide\"].mean()\n",
        "tsd_mean = vinho_b[\"total sulfur dioxide\"].mean()\n",
        "den_mean = vinho_b[\"density\"].mean()\n",
        "ph_mean = vinho_b[\"pH\"].mean()\n",
        "su_mean = vinho_b[\"sulphates\"].mean()\n",
        "al_mean = vinho_b[\"alcohol\"].mean()"
      ],
      "metadata": {
        "id": "LRKBa73K6Fa_"
      },
      "execution_count": 19,
      "outputs": []
    },
    {
      "cell_type": "markdown",
      "source": [
        "STANDARD DEVIATION"
      ],
      "metadata": {
        "id": "6GbczayQejJx"
      }
    },
    {
      "cell_type": "code",
      "source": [
        "fa_std = vinho_b[\"fixed acidity\"].std()\n",
        "va_std = vinho_b[\"volatile acidity\"].std()\n",
        "ca_std = vinho_b[\"citric acid\"].std()\n",
        "ch_std = vinho_b[\"chlorides\"].std()\n",
        "fsd_std = vinho_b[\"free sulfur dioxide\"].std()\n",
        "tsd_std = vinho_b[\"total sulfur dioxide\"].std()\n",
        "den_std = vinho_b[\"density\"].std()\n",
        "ph_std = vinho_b[\"pH\"].std()\n",
        "su_std = vinho_b[\"sulphates\"].std()\n",
        "al_std = vinho_b[\"alcohol\"].std()"
      ],
      "metadata": {
        "id": "Aulv9UOR-AHX"
      },
      "execution_count": 20,
      "outputs": []
    },
    {
      "cell_type": "markdown",
      "source": [
        "SKEWNESS"
      ],
      "metadata": {
        "id": "HwSDbFQeRwbJ"
      }
    },
    {
      "cell_type": "code",
      "source": [
        "fa_skew = vinho_b[\"fixed acidity\"].skew()\n",
        "va_skew = vinho_b[\"volatile acidity\"].skew()\n",
        "ca_skew = vinho_b[\"citric acid\"].skew()\n",
        "ch_skew = vinho_b[\"chlorides\"].skew()\n",
        "fsd_skew = vinho_b[\"free sulfur dioxide\"].skew()\n",
        "tsd_skew = vinho_b[\"total sulfur dioxide\"].skew()\n",
        "den_skew = vinho_b[\"density\"].skew()\n",
        "ph_skew = vinho_b[\"pH\"].skew()\n",
        "su_skew = vinho_b[\"sulphates\"].skew()\n",
        "al_skew = vinho_b[\"alcohol\"].skew()"
      ],
      "metadata": {
        "id": "6evv-rDpRyxU"
      },
      "execution_count": 21,
      "outputs": []
    },
    {
      "cell_type": "code",
      "source": [],
      "metadata": {
        "id": "3rsXIZJBR39P"
      },
      "execution_count": 21,
      "outputs": []
    },
    {
      "cell_type": "markdown",
      "source": [
        "Table of means,std and skew"
      ],
      "metadata": {
        "id": "mWYAx5yFHrKV"
      }
    },
    {
      "cell_type": "code",
      "source": [
        "table1="
      ],
      "metadata": {
        "id": "ZzyC0vSFHz8U",
        "colab": {
          "base_uri": "https://localhost:8080/",
          "height": 130
        },
        "outputId": "24d9d10c-9922-4025-8105-80ed4f4d6651"
      },
      "execution_count": 22,
      "outputs": [
        {
          "output_type": "error",
          "ename": "SyntaxError",
          "evalue": "ignored",
          "traceback": [
            "\u001b[0;36m  File \u001b[0;32m\"<ipython-input-22-fdd49c7c3810>\"\u001b[0;36m, line \u001b[0;32m1\u001b[0m\n\u001b[0;31m    table1=\u001b[0m\n\u001b[0m           ^\u001b[0m\n\u001b[0;31mSyntaxError\u001b[0m\u001b[0;31m:\u001b[0m invalid syntax\n"
          ]
        }
      ]
    },
    {
      "cell_type": "markdown",
      "source": [
        "CLASS CONDITIONAL MONO-VARIATE ANALYSIS"
      ],
      "metadata": {
        "id": "E2Edl7x4Zmf5"
      }
    },
    {
      "cell_type": "markdown",
      "source": [
        "TIPO 1: BAD QUALITY WHITE WINE"
      ],
      "metadata": {
        "id": "q_mIiMwEZx_G"
      }
    },
    {
      "cell_type": "markdown",
      "source": [
        "**Tipo** 1 ✴ Histogramas"
      ],
      "metadata": {
        "id": "8ROY9d2LePVd"
      }
    },
    {
      "cell_type": "code",
      "source": [
        "fig, ax = plt.subplots(figsize = (9,9))\n",
        "plt.title(\"Histograma da Densidade | Classe 1\")\n",
        "plt.ylabel(\"Frequência\")\n",
        "ax.hist(bqw[\"density\"], bins= 50, edgecolor=\"black\", color=\"indigo\")"
      ],
      "metadata": {
        "colab": {
          "base_uri": "https://localhost:8080/",
          "height": 779
        },
        "id": "8wV8cYsratFB",
        "outputId": "90041463-7053-4037-bc62-69cbea446758"
      },
      "execution_count": 31,
      "outputs": [
        {
          "output_type": "execute_result",
          "data": {
            "text/plain": [
              "(array([2., 0., 1., 1., 3., 3., 3., 5., 2., 7., 3., 1., 5., 3., 6., 8., 7.,\n",
              "        6., 5., 5., 7., 9., 3., 7., 5., 7., 9., 3., 7., 3., 2., 5., 2., 5.,\n",
              "        1., 5., 0., 3., 3., 5., 7., 2., 1., 1., 0., 1., 1., 1., 1., 1.]),\n",
              " array([0.9892  , 0.989424, 0.989648, 0.989872, 0.990096, 0.99032 ,\n",
              "        0.990544, 0.990768, 0.990992, 0.991216, 0.99144 , 0.991664,\n",
              "        0.991888, 0.992112, 0.992336, 0.99256 , 0.992784, 0.993008,\n",
              "        0.993232, 0.993456, 0.99368 , 0.993904, 0.994128, 0.994352,\n",
              "        0.994576, 0.9948  , 0.995024, 0.995248, 0.995472, 0.995696,\n",
              "        0.99592 , 0.996144, 0.996368, 0.996592, 0.996816, 0.99704 ,\n",
              "        0.997264, 0.997488, 0.997712, 0.997936, 0.99816 , 0.998384,\n",
              "        0.998608, 0.998832, 0.999056, 0.99928 , 0.999504, 0.999728,\n",
              "        0.999952, 1.000176, 1.0004  ]),\n",
              " <a list of 50 Patch objects>)"
            ]
          },
          "metadata": {},
          "execution_count": 31
        },
        {
          "output_type": "display_data",
          "data": {
            "text/plain": [
              "<Figure size 648x648 with 1 Axes>"
            ],
            "image/png": "[encoded data removed]"
          },
          "metadata": {
            "needs_background": "light"
          }
        }
      ]
    },
    {
      "cell_type": "code",
      "source": [
        "fig, ax = plt.subplots(figsize = (9,9))\n",
        "plt.title(\"Histograma do pH | Classe 1\")\n",
        "plt.ylabel(\"Frequência\")\n",
        "ax.hist(bqw[\"pH\"], bins= 50, edgecolor=\"black\", color=\"darkblue\")"
      ],
      "metadata": {
        "colab": {
          "base_uri": "https://localhost:8080/",
          "height": 761
        },
        "id": "H1G9W2D-bt9I",
        "outputId": "ac8aa077-afbf-4992-e3ea-a18424c0f09a"
      },
      "execution_count": 32,
      "outputs": [
        {
          "output_type": "execute_result",
          "data": {
            "text/plain": [
              "(array([ 1.,  0.,  2.,  3.,  2.,  3.,  1.,  3.,  3.,  5.,  4.,  9., 11.,\n",
              "         4., 11.,  8.,  6., 11., 10.,  7.,  7.,  5.,  2., 12.,  4.,  5.,\n",
              "         6.,  5.,  1.,  5.,  5.,  0.,  2.,  3.,  1.,  3.,  1.,  3.,  2.,\n",
              "         3.,  1.,  0.,  0.,  0.,  1.,  0.,  1.,  0.,  0.,  1.]),\n",
              " array([2.83  , 2.8478, 2.8656, 2.8834, 2.9012, 2.919 , 2.9368, 2.9546,\n",
              "        2.9724, 2.9902, 3.008 , 3.0258, 3.0436, 3.0614, 3.0792, 3.097 ,\n",
              "        3.1148, 3.1326, 3.1504, 3.1682, 3.186 , 3.2038, 3.2216, 3.2394,\n",
              "        3.2572, 3.275 , 3.2928, 3.3106, 3.3284, 3.3462, 3.364 , 3.3818,\n",
              "        3.3996, 3.4174, 3.4352, 3.453 , 3.4708, 3.4886, 3.5064, 3.5242,\n",
              "        3.542 , 3.5598, 3.5776, 3.5954, 3.6132, 3.631 , 3.6488, 3.6666,\n",
              "        3.6844, 3.7022, 3.72  ]),\n",
              " <a list of 50 Patch objects>)"
            ]
          },
          "metadata": {},
          "execution_count": 32
        },
        {
          "output_type": "display_data",
          "data": {
            "text/plain": [
              "<Figure size 648x648 with 1 Axes>"
            ],
            "image/png": "[encoded data removed]"
          },
          "metadata": {
            "needs_background": "light"
          }
        }
      ]
    },
    {
      "cell_type": "code",
      "source": [
        "fig, ax = plt.subplots(figsize = (9,9))\n",
        "plt.title(\"Histograma dos Sulfatos | Classe 1\")\n",
        "plt.ylabel(\"Frequência\")\n",
        "ax.hist(bqw[\"sulphates\"], bins= 50, edgecolor=\"black\", color=\"yellow\")"
      ],
      "metadata": {
        "colab": {
          "base_uri": "https://localhost:8080/",
          "height": 761
        },
        "id": "k4tDDDebbujE",
        "outputId": "f55e51b5-448d-4767-8720-10d173df028a"
      },
      "execution_count": 33,
      "outputs": [
        {
          "output_type": "execute_result",
          "data": {
            "text/plain": [
              "(array([ 1.,  0.,  3.,  0.,  6.,  4.,  1.,  8., 11.,  6.,  9.,  5.,  9.,\n",
              "         0.,  6.,  7., 15.,  9.,  7.,  5.,  8.,  7.,  4.,  8.,  3.,  7.,\n",
              "         3.,  2.,  3.,  3.,  3.,  4.,  3.,  3.,  1.,  1.,  1.,  2.,  0.,\n",
              "         1.,  0.,  0.,  1.,  1.,  0.,  0.,  0.,  0.,  0.,  2.]),\n",
              " array([0.25  , 0.2624, 0.2748, 0.2872, 0.2996, 0.312 , 0.3244, 0.3368,\n",
              "        0.3492, 0.3616, 0.374 , 0.3864, 0.3988, 0.4112, 0.4236, 0.436 ,\n",
              "        0.4484, 0.4608, 0.4732, 0.4856, 0.498 , 0.5104, 0.5228, 0.5352,\n",
              "        0.5476, 0.56  , 0.5724, 0.5848, 0.5972, 0.6096, 0.622 , 0.6344,\n",
              "        0.6468, 0.6592, 0.6716, 0.684 , 0.6964, 0.7088, 0.7212, 0.7336,\n",
              "        0.746 , 0.7584, 0.7708, 0.7832, 0.7956, 0.808 , 0.8204, 0.8328,\n",
              "        0.8452, 0.8576, 0.87  ]),\n",
              " <a list of 50 Patch objects>)"
            ]
          },
          "metadata": {},
          "execution_count": 33
        },
        {
          "output_type": "display_data",
          "data": {
            "text/plain": [
              "<Figure size 648x648 with 1 Axes>"
            ],
            "image/png": "[encoded data removed]"
          },
          "metadata": {
            "needs_background": "light"
          }
        }
      ]
    },
    {
      "cell_type": "code",
      "source": [
        "fig, ax = plt.subplots(figsize = (9,9))\n",
        "plt.title(\"Histograma do Álcool | Classe 1\")\n",
        "plt.ylabel(\"Frequência\")\n",
        "ax.hist(bqw[\"alcohol\"], bins= 50, edgecolor=\"black\", color=\"red\")"
      ],
      "metadata": {
        "colab": {
          "base_uri": "https://localhost:8080/",
          "height": 746
        },
        "id": "It1lzhXJbvk6",
        "outputId": "4b3fbed3-bf57-44ec-f009-c2f08683d133"
      },
      "execution_count": 34,
      "outputs": [
        {
          "output_type": "execute_result",
          "data": {
            "text/plain": [
              "(array([ 1.,  0.,  0.,  1.,  1.,  4.,  2.,  2.,  3., 11., 13.,  3., 11.,\n",
              "         9.,  4.,  6.,  5.,  5.,  8.,  9., 13.,  7., 10.,  4.,  2.,  4.,\n",
              "         2.,  6.,  3.,  6.,  6.,  4.,  3.,  3.,  1.,  0.,  1.,  1.,  1.,\n",
              "         0.,  3.,  2.,  1.,  0.,  1.,  0.,  0.,  0.,  0.,  1.]),\n",
              " array([ 8.  ,  8.11,  8.22,  8.33,  8.44,  8.55,  8.66,  8.77,  8.88,\n",
              "         8.99,  9.1 ,  9.21,  9.32,  9.43,  9.54,  9.65,  9.76,  9.87,\n",
              "         9.98, 10.09, 10.2 , 10.31, 10.42, 10.53, 10.64, 10.75, 10.86,\n",
              "        10.97, 11.08, 11.19, 11.3 , 11.41, 11.52, 11.63, 11.74, 11.85,\n",
              "        11.96, 12.07, 12.18, 12.29, 12.4 , 12.51, 12.62, 12.73, 12.84,\n",
              "        12.95, 13.06, 13.17, 13.28, 13.39, 13.5 ]),\n",
              " <a list of 50 Patch objects>)"
            ]
          },
          "metadata": {},
          "execution_count": 34
        },
        {
          "output_type": "display_data",
          "data": {
            "text/plain": [
              "<Figure size 648x648 with 1 Axes>"
            ],
            "image/png": "[encoded data removed]"
          },
          "metadata": {
            "needs_background": "light"
          }
        }
      ]
    },
    {
      "cell_type": "code",
      "source": [
        "fig, ax = plt.subplots(figsize = (9,9))\n",
        "plt.title(\"Histograma da Qualidade | Classe 1\")\n",
        "plt.ylabel(\"Frequência\")\n",
        "ax.hist(bqw[\"quality\"], bins= 50, edgecolor=\"black\", color=\"red\")"
      ],
      "metadata": {
        "colab": {
          "base_uri": "https://localhost:8080/",
          "height": 744
        },
        "id": "rTCWQgDAbvzM",
        "outputId": "2fc53172-d14a-41f1-a84f-6a09bdba7cbd"
      },
      "execution_count": 35,
      "outputs": [
        {
          "output_type": "execute_result",
          "data": {
            "text/plain": [
              "(array([ 20.,   0.,   0.,   0.,   0.,   0.,   0.,   0.,   0.,   0.,   0.,\n",
              "          0.,   0.,   0.,   0.,   0.,   0.,   0.,   0.,   0.,   0.,   0.,\n",
              "          0.,   0.,   0.,   0.,   0.,   0.,   0.,   0.,   0.,   0.,   0.,\n",
              "          0.,   0.,   0.,   0.,   0.,   0.,   0.,   0.,   0.,   0.,   0.,\n",
              "          0.,   0.,   0.,   0.,   0., 163.]),\n",
              " array([3.  , 3.02, 3.04, 3.06, 3.08, 3.1 , 3.12, 3.14, 3.16, 3.18, 3.2 ,\n",
              "        3.22, 3.24, 3.26, 3.28, 3.3 , 3.32, 3.34, 3.36, 3.38, 3.4 , 3.42,\n",
              "        3.44, 3.46, 3.48, 3.5 , 3.52, 3.54, 3.56, 3.58, 3.6 , 3.62, 3.64,\n",
              "        3.66, 3.68, 3.7 , 3.72, 3.74, 3.76, 3.78, 3.8 , 3.82, 3.84, 3.86,\n",
              "        3.88, 3.9 , 3.92, 3.94, 3.96, 3.98, 4.  ]),\n",
              " <a list of 50 Patch objects>)"
            ]
          },
          "metadata": {},
          "execution_count": 35
        },
        {
          "output_type": "display_data",
          "data": {
            "text/plain": [
              "<Figure size 648x648 with 1 Axes>"
            ],
            "image/png": "[encoded data removed]"
          },
          "metadata": {
            "needs_background": "light"
          }
        }
      ]
    },
    {
      "cell_type": "markdown",
      "source": [
        "TIPO 1 MEAN"
      ],
      "metadata": {
        "id": "Pe0QPhUaaekf"
      }
    },
    {
      "cell_type": "code",
      "source": [
        "bfa_mean = bqw[\"fixed acidity\"].mean()\n",
        "bva_mean = bqw[\"volatile acidity\"].mean()\n",
        "bca_mean = bqw[\"citric acid\"].mean()\n",
        "bch_mean = bqw[\"chlorides\"].mean()\n",
        "bfsd_mean = bqw[\"free sulfur dioxide\"].mean()\n",
        "btsd_mean = bqw[\"total sulfur dioxide\"].mean()\n",
        "bden_mean = bqw[\"density\"].mean()\n",
        "bph_mean = bqw[\"pH\"].mean()\n",
        "bsu_mean = bqw[\"sulphates\"].mean()\n",
        "bal_mean = bqw[\"alcohol\"].mean()"
      ],
      "metadata": {
        "id": "wNUgKfkzZ1QC"
      },
      "execution_count": null,
      "outputs": []
    },
    {
      "cell_type": "markdown",
      "source": [
        "TIPO 1 STANDARD DEVIATION"
      ],
      "metadata": {
        "id": "8MT3xha_aYjT"
      }
    },
    {
      "cell_type": "code",
      "source": [
        "bfa_std = bqw[\"fixed acidity\"].std()\n",
        "bva_std = bqw[\"volatile acidity\"].std()\n",
        "bca_std = bqw[\"citric acid\"].std()\n",
        "bch_std = bqw[\"chlorides\"].std()\n",
        "bfsd_std = bqw[\"free sulfur dioxide\"].std()\n",
        "btsd_std = bqw[\"total sulfur dioxide\"].std()\n",
        "bden_std = bqw[\"density\"].std()\n",
        "bph_std = bqw[\"pH\"].std()\n",
        "bsu_std = bqw[\"sulphates\"].std()\n",
        "bal_std = bqw[\"alcohol\"].std()"
      ],
      "metadata": {
        "id": "iqdjqA7Oah88"
      },
      "execution_count": 28,
      "outputs": []
    },
    {
      "cell_type": "markdown",
      "source": [
        "TIPO 1 SKEWNESS"
      ],
      "metadata": {
        "id": "0jZeFcUMa1Cw"
      }
    },
    {
      "cell_type": "code",
      "source": [
        "bfa_skew = bqw[\"fixed acidity\"].skew()\n",
        "bva_skew = bqw[\"volatile acidity\"].skew()\n",
        "bca_skew = bqw[\"citric acid\"].skew()\n",
        "bch_skew = bqw[\"chlorides\"].skew()\n",
        "bfsd_skew = bqw[\"free sulfur dioxide\"].skew()\n",
        "btsd_skew = bqw[\"total sulfur dioxide\"].skew()\n",
        "bden_skew = bqw[\"density\"].skew()\n",
        "bph_skew = bqw[\"pH\"].skew()\n",
        "bsu_skew = bqw[\"sulphates\"].skew()\n",
        "bal_skew = bqw[\"alcohol\"].skew()"
      ],
      "metadata": {
        "id": "H40ec6m-a5n1"
      },
      "execution_count": 27,
      "outputs": []
    },
    {
      "cell_type": "markdown",
      "source": [
        "TIPO 2: NORMAL QUALITY WINE"
      ],
      "metadata": {
        "id": "oP1OTiiYBo5T"
      }
    },
    {
      "cell_type": "markdown",
      "source": [
        "Tipo 2 ✴ Histogramas"
      ],
      "metadata": {
        "id": "Ef7fbnISeKHn"
      }
    },
    {
      "cell_type": "code",
      "source": [
        "fig, ax = plt.subplots(figsize = (9,9))\n",
        "plt.title(\"Histograma da Densidade | Classe 2\")\n",
        "plt.ylabel(\"Frequência\")\n",
        "ax.hist(nqw[\"density\"], bins= 50, edgecolor=\"black\", color=\"indigo\")"
      ],
      "metadata": {
        "colab": {
          "base_uri": "https://localhost:8080/",
          "height": 813
        },
        "outputId": "374156d8-5149-4666-c9fd-bdcb989d8871",
        "id": "dfDPa9olc1R-"
      },
      "execution_count": 36,
      "outputs": [
        {
          "output_type": "execute_result",
          "data": {
            "text/plain": [
              "(array([ 13.,  82., 308., 440., 586., 591., 501., 514., 446., 340., 368.,\n",
              "        202., 117.,  16.,   6.,   2.,   0.,   0.,   0.,   0.,   0.,   0.,\n",
              "          2.,   0.,   0.,   0.,   0.,   0.,   0.,   0.,   0.,   0.,   0.,\n",
              "          0.,   0.,   0.,   0.,   0.,   0.,   0.,   0.,   0.,   0.,   0.,\n",
              "          0.,   0.,   0.,   0.,   0.,   1.]),\n",
              " array([0.98711  , 0.9881474, 0.9891848, 0.9902222, 0.9912596, 0.992297 ,\n",
              "        0.9933344, 0.9943718, 0.9954092, 0.9964466, 0.997484 , 0.9985214,\n",
              "        0.9995588, 1.0005962, 1.0016336, 1.002671 , 1.0037084, 1.0047458,\n",
              "        1.0057832, 1.0068206, 1.007858 , 1.0088954, 1.0099328, 1.0109702,\n",
              "        1.0120076, 1.013045 , 1.0140824, 1.0151198, 1.0161572, 1.0171946,\n",
              "        1.018232 , 1.0192694, 1.0203068, 1.0213442, 1.0223816, 1.023419 ,\n",
              "        1.0244564, 1.0254938, 1.0265312, 1.0275686, 1.028606 , 1.0296434,\n",
              "        1.0306808, 1.0317182, 1.0327556, 1.033793 , 1.0348304, 1.0358678,\n",
              "        1.0369052, 1.0379426, 1.03898  ]),\n",
              " <a list of 50 Patch objects>)"
            ]
          },
          "metadata": {},
          "execution_count": 36
        },
        {
          "output_type": "display_data",
          "data": {
            "text/plain": [
              "<Figure size 648x648 with 1 Axes>"
            ],
            "image/png": "[encoded data removed]"
          },
          "metadata": {
            "needs_background": "light"
          }
        }
      ]
    },
    {
      "cell_type": "code",
      "source": [
        "fig, ax = plt.subplots(figsize = (9,9))\n",
        "plt.title(\"Histograma do pH | Classe 2\")\n",
        "plt.ylabel(\"Frequência\")\n",
        "ax.hist(nqw[\"pH\"], bins= 50, edgecolor=\"black\", color=\"darkblue\")"
      ],
      "metadata": {
        "colab": {
          "base_uri": "https://localhost:8080/",
          "height": 761
        },
        "outputId": "533312f2-316b-4c8e-bf8c-0eb591d31f94",
        "id": "AcFSj4UKc1R-"
      },
      "execution_count": 37,
      "outputs": [
        {
          "output_type": "execute_result",
          "data": {
            "text/plain": [
              "(array([  2.,   0.,   1.,   6.,   1.,  13.,  17.,  25.,  43.,  53., 110.,\n",
              "         70., 130., 109., 158., 263., 210., 251., 237., 288., 399., 263.,\n",
              "        230., 227., 193., 239., 158., 121., 117., 120., 125.,  67.,  50.,\n",
              "         41.,  38.,  48.,  25.,  19.,  11.,  10.,  11.,   7.,   8.,   3.,\n",
              "          3.,   2.,   4.,   4.,   1.,   4.]),\n",
              " array([2.72 , 2.742, 2.764, 2.786, 2.808, 2.83 , 2.852, 2.874, 2.896,\n",
              "        2.918, 2.94 , 2.962, 2.984, 3.006, 3.028, 3.05 , 3.072, 3.094,\n",
              "        3.116, 3.138, 3.16 , 3.182, 3.204, 3.226, 3.248, 3.27 , 3.292,\n",
              "        3.314, 3.336, 3.358, 3.38 , 3.402, 3.424, 3.446, 3.468, 3.49 ,\n",
              "        3.512, 3.534, 3.556, 3.578, 3.6  , 3.622, 3.644, 3.666, 3.688,\n",
              "        3.71 , 3.732, 3.754, 3.776, 3.798, 3.82 ]),\n",
              " <a list of 50 Patch objects>)"
            ]
          },
          "metadata": {},
          "execution_count": 37
        },
        {
          "output_type": "display_data",
          "data": {
            "text/plain": [
              "<Figure size 648x648 with 1 Axes>"
            ],
            "image/png": "[encoded data removed]"
          },
          "metadata": {
            "needs_background": "light"
          }
        }
      ]
    },
    {
      "cell_type": "code",
      "source": [
        "fig, ax = plt.subplots(figsize = (9,9))\n",
        "plt.title(\"Histograma dos Sulfatos | Classe 1\")\n",
        "plt.ylabel(\"Frequência\")\n",
        "ax.hist(nqw[\"sulphates\"], bins= 50, edgecolor=\"black\", color=\"yellow\")"
      ],
      "metadata": {
        "colab": {
          "base_uri": "https://localhost:8080/",
          "height": 779
        },
        "outputId": "e70c6474-afd4-4b47-efe5-f7a62a041e6f",
        "id": "2WD_f_IRc1R-"
      },
      "execution_count": 38,
      "outputs": [
        {
          "output_type": "execute_result",
          "data": {
            "text/plain": [
              "(array([  2.,   2.,  13.,  10.,  43.,  74., 118.,  78., 230., 332., 152.,\n",
              "        305., 362., 376., 160., 320., 369., 149., 286., 203., 167.,  87.,\n",
              "        121., 109.,  80.,  34.,  77.,  53.,  14.,  45.,  37.,  32.,  17.,\n",
              "         19.,  17.,   2.,   5.,   2.,   8.,   3.,   2.,   1.,   4.,   4.,\n",
              "          7.,   2.,   0.,   0.,   1.,   1.]),\n",
              " array([0.22  , 0.2372, 0.2544, 0.2716, 0.2888, 0.306 , 0.3232, 0.3404,\n",
              "        0.3576, 0.3748, 0.392 , 0.4092, 0.4264, 0.4436, 0.4608, 0.478 ,\n",
              "        0.4952, 0.5124, 0.5296, 0.5468, 0.564 , 0.5812, 0.5984, 0.6156,\n",
              "        0.6328, 0.65  , 0.6672, 0.6844, 0.7016, 0.7188, 0.736 , 0.7532,\n",
              "        0.7704, 0.7876, 0.8048, 0.822 , 0.8392, 0.8564, 0.8736, 0.8908,\n",
              "        0.908 , 0.9252, 0.9424, 0.9596, 0.9768, 0.994 , 1.0112, 1.0284,\n",
              "        1.0456, 1.0628, 1.08  ]),\n",
              " <a list of 50 Patch objects>)"
            ]
          },
          "metadata": {},
          "execution_count": 38
        },
        {
          "output_type": "display_data",
          "data": {
            "text/plain": [
              "<Figure size 648x648 with 1 Axes>"
            ],
            "image/png": "[encoded data removed]"
          },
          "metadata": {
            "needs_background": "light"
          }
        }
      ]
    },
    {
      "cell_type": "code",
      "source": [
        "fig, ax = plt.subplots(figsize = (9,9))\n",
        "plt.title(\"Histograma do Álcool | Classe 1\")\n",
        "plt.ylabel(\"Frequência\")\n",
        "ax.hist(nqw[\"alcohol\"], bins= 50, edgecolor=\"black\", color=\"red\")"
      ],
      "metadata": {
        "colab": {
          "base_uri": "https://localhost:8080/",
          "height": 781
        },
        "outputId": "d30ce21c-cef3-4aec-b0e0-8d7c8edae76c",
        "id": "KeD_YAk4c1R_"
      },
      "execution_count": 39,
      "outputs": [
        {
          "output_type": "execute_result",
          "data": {
            "text/plain": [
              "(array([  1.,   0.,   0.,   2.,  26.,  76.,  94.,  86., 313., 191., 131.,\n",
              "        218., 347., 102., 129., 104., 260., 125.,  82., 140., 260.,  91.,\n",
              "        131.,  88., 149., 175., 100., 123.,  79.,  94.,  59.,  49.,  98.,\n",
              "        125.,  57.,  56.,  71., 102.,  48.,  34.,  31.,  28.,   7.,  14.,\n",
              "         12.,  16.,   2.,   3.,   5.,   1.]),\n",
              " array([ 8.   ,  8.124,  8.248,  8.372,  8.496,  8.62 ,  8.744,  8.868,\n",
              "         8.992,  9.116,  9.24 ,  9.364,  9.488,  9.612,  9.736,  9.86 ,\n",
              "         9.984, 10.108, 10.232, 10.356, 10.48 , 10.604, 10.728, 10.852,\n",
              "        10.976, 11.1  , 11.224, 11.348, 11.472, 11.596, 11.72 , 11.844,\n",
              "        11.968, 12.092, 12.216, 12.34 , 12.464, 12.588, 12.712, 12.836,\n",
              "        12.96 , 13.084, 13.208, 13.332, 13.456, 13.58 , 13.704, 13.828,\n",
              "        13.952, 14.076, 14.2  ]),\n",
              " <a list of 50 Patch objects>)"
            ]
          },
          "metadata": {},
          "execution_count": 39
        },
        {
          "output_type": "display_data",
          "data": {
            "text/plain": [
              "<Figure size 648x648 with 1 Axes>"
            ],
            "image/png": "[encoded data removed]"
          },
          "metadata": {
            "needs_background": "light"
          }
        }
      ]
    },
    {
      "cell_type": "code",
      "source": [
        "fig, ax = plt.subplots(figsize = (9,9))\n",
        "plt.title(\"Histograma da Qualidade | Classe 1\")\n",
        "plt.ylabel(\"Frequência\")\n",
        "ax.hist(nqw[\"quality\"], bins= 50, edgecolor=\"black\", color=\"red\")"
      ],
      "metadata": {
        "colab": {
          "base_uri": "https://localhost:8080/",
          "height": 761
        },
        "outputId": "f573afdb-965d-4f08-9c2e-2702b76b2cc8",
        "id": "o_Ix7dvec1R_"
      },
      "execution_count": 40,
      "outputs": [
        {
          "output_type": "execute_result",
          "data": {
            "text/plain": [
              "(array([1457.,    0.,    0.,    0.,    0.,    0.,    0.,    0.,    0.,\n",
              "           0.,    0.,    0.,    0.,    0.,    0.,    0.,    0.,    0.,\n",
              "           0.,    0.,    0.,    0.,    0.,    0.,    0., 2198.,    0.,\n",
              "           0.,    0.,    0.,    0.,    0.,    0.,    0.,    0.,    0.,\n",
              "           0.,    0.,    0.,    0.,    0.,    0.,    0.,    0.,    0.,\n",
              "           0.,    0.,    0.,    0.,  880.]),\n",
              " array([5.  , 5.04, 5.08, 5.12, 5.16, 5.2 , 5.24, 5.28, 5.32, 5.36, 5.4 ,\n",
              "        5.44, 5.48, 5.52, 5.56, 5.6 , 5.64, 5.68, 5.72, 5.76, 5.8 , 5.84,\n",
              "        5.88, 5.92, 5.96, 6.  , 6.04, 6.08, 6.12, 6.16, 6.2 , 6.24, 6.28,\n",
              "        6.32, 6.36, 6.4 , 6.44, 6.48, 6.52, 6.56, 6.6 , 6.64, 6.68, 6.72,\n",
              "        6.76, 6.8 , 6.84, 6.88, 6.92, 6.96, 7.  ]),\n",
              " <a list of 50 Patch objects>)"
            ]
          },
          "metadata": {},
          "execution_count": 40
        },
        {
          "output_type": "display_data",
          "data": {
            "text/plain": [
              "<Figure size 648x648 with 1 Axes>"
            ],
            "image/png": "[encoded data removed]"
          },
          "metadata": {
            "needs_background": "light"
          }
        }
      ]
    },
    {
      "cell_type": "markdown",
      "source": [
        "TIPO 2 MEAN"
      ],
      "metadata": {
        "id": "sBCPDJz3BvWS"
      }
    },
    {
      "cell_type": "code",
      "source": [
        "nfa_mean = nqw[\"fixed acidity\"].mean()\n",
        "nva_mean = nqw[\"volatile acidity\"].mean()\n",
        "nca_mean = nqw[\"citric acid\"].mean()\n",
        "nch_mean = nqw[\"chlorides\"].mean()\n",
        "nfsd_mean = nqw[\"free sulfur dioxide\"].mean()\n",
        "ntsd_mean = nqw[\"total sulfur dioxide\"].mean()\n",
        "nden_mean = nqw[\"density\"].mean()\n",
        "nph_mean = nqw[\"pH\"].mean()\n",
        "nsu_mean = nqw[\"sulphates\"].mean()\n",
        "nal_mean = nqw[\"alcohol\"].mean()"
      ],
      "metadata": {
        "id": "JlOP9G-RBtrR"
      },
      "execution_count": 26,
      "outputs": []
    },
    {
      "cell_type": "markdown",
      "source": [
        "TIPO 2 STANDARD DEVIATION"
      ],
      "metadata": {
        "id": "SxTAXVOdCUyO"
      }
    },
    {
      "cell_type": "code",
      "source": [
        "nfa_std = nqw[\"fixed acidity\"].std()\n",
        "nva_std = nqw[\"volatile acidity\"].std()\n",
        "nca_std = nqw[\"citric acid\"].std()\n",
        "nch_std = nqw[\"chlorides\"].std()\n",
        "nfsd_std = nqw[\"free sulfur dioxide\"].std()\n",
        "ntsd_std = nqw[\"total sulfur dioxide\"].std()\n",
        "nden_std = nqw[\"density\"].std()\n",
        "nph_std = nqw[\"pH\"].std()\n",
        "nsu_std = nqw[\"sulphates\"].std()\n",
        "nal_std = nqw[\"alcohol\"].std()"
      ],
      "metadata": {
        "id": "iYhjCvX8CX3G"
      },
      "execution_count": 25,
      "outputs": []
    },
    {
      "cell_type": "markdown",
      "source": [
        "TIPO 2 SKEWNESS"
      ],
      "metadata": {
        "id": "zHuej61NCqVT"
      }
    },
    {
      "cell_type": "code",
      "source": [
        "nfa_skew = nqw[\"fixed acidity\"].skew()\n",
        "nva_skew = nqw[\"volatile acidity\"].skew()\n",
        "nca_skew = nqw[\"citric acid\"].skew()\n",
        "nch_skew = nqw[\"chlorides\"].skew()\n",
        "nfsd_skew = nqw[\"free sulfur dioxide\"].skew()\n",
        "ntsd_skew = nqw[\"total sulfur dioxide\"].skew()\n",
        "nden_skew = nqw[\"density\"].skew()\n",
        "nph_skew = nqw[\"pH\"].skew()\n",
        "nsu_skew = nqw[\"sulphates\"].skew()\n",
        "nal_skew = nqw[\"alcohol\"].skew()"
      ],
      "metadata": {
        "id": "Ec7w1lM6Cuhn"
      },
      "execution_count": 24,
      "outputs": []
    },
    {
      "cell_type": "markdown",
      "source": [
        "TIPO 3: GOOD QUALITY WINE"
      ],
      "metadata": {
        "id": "uKF4tjEsDAb4"
      }
    },
    {
      "cell_type": "markdown",
      "source": [
        "Tipo 3 ✴ Histogramas"
      ],
      "metadata": {
        "id": "EsPnfyejduPG"
      }
    },
    {
      "cell_type": "code",
      "source": [
        "fig, ax = plt.subplots(figsize = (9,9))\n",
        "plt.title(\"Histograma da Densidade | Classe 3\")\n",
        "plt.ylabel(\"Frequência\")\n",
        "ax.hist(gqw[\"density\"], bins= 50, edgecolor=\"black\", color=\"indigo\")"
      ],
      "metadata": {
        "colab": {
          "base_uri": "https://localhost:8080/",
          "height": 796
        },
        "outputId": "6ce4457a-8eee-43bf-cccc-2480df29d5fe",
        "id": "4aEixoDZdNgY"
      },
      "execution_count": 41,
      "outputs": [
        {
          "output_type": "execute_result",
          "data": {
            "text/plain": [
              "(array([ 1.,  0.,  0.,  0.,  0.,  3.,  7.,  4., 13.,  6.,  6., 12., 10.,\n",
              "         9.,  7., 10.,  6.,  9.,  6.,  5.,  7.,  7.,  3.,  9.,  3.,  3.,\n",
              "         4.,  2.,  1.,  6.,  0.,  3.,  0.,  0.,  0.,  0.,  1.,  0.,  0.,\n",
              "         0.,  8.,  0.,  0.,  0.,  6.,  0.,  0.,  1.,  0.,  2.]),\n",
              " array([0.98713  , 0.9873994, 0.9876688, 0.9879382, 0.9882076, 0.988477 ,\n",
              "        0.9887464, 0.9890158, 0.9892852, 0.9895546, 0.989824 , 0.9900934,\n",
              "        0.9903628, 0.9906322, 0.9909016, 0.991171 , 0.9914404, 0.9917098,\n",
              "        0.9919792, 0.9922486, 0.992518 , 0.9927874, 0.9930568, 0.9933262,\n",
              "        0.9935956, 0.993865 , 0.9941344, 0.9944038, 0.9946732, 0.9949426,\n",
              "        0.995212 , 0.9954814, 0.9957508, 0.9960202, 0.9962896, 0.996559 ,\n",
              "        0.9968284, 0.9970978, 0.9973672, 0.9976366, 0.997906 , 0.9981754,\n",
              "        0.9984448, 0.9987142, 0.9989836, 0.999253 , 0.9995224, 0.9997918,\n",
              "        1.0000612, 1.0003306, 1.0006   ]),\n",
              " <a list of 50 Patch objects>)"
            ]
          },
          "metadata": {},
          "execution_count": 41
        },
        {
          "output_type": "display_data",
          "data": {
            "text/plain": [
              "<Figure size 648x648 with 1 Axes>"
            ],
            "image/png": "[encoded data removed]"
          },
          "metadata": {
            "needs_background": "light"
          }
        }
      ]
    },
    {
      "cell_type": "code",
      "source": [
        "fig, ax = plt.subplots(figsize = (9,9))\n",
        "plt.title(\"Histograma do pH | Classe 3\")\n",
        "plt.ylabel(\"Frequência\")\n",
        "ax.hist(gqw[\"pH\"], bins= 50, edgecolor=\"black\", color=\"darkblue\")"
      ],
      "metadata": {
        "colab": {
          "base_uri": "https://localhost:8080/",
          "height": 744
        },
        "outputId": "d5336805-b29d-4092-9921-dc3f1965a1f8",
        "id": "NmASyBZodNgZ"
      },
      "execution_count": 42,
      "outputs": [
        {
          "output_type": "execute_result",
          "data": {
            "text/plain": [
              "(array([ 9.,  1.,  1.,  5.,  1.,  1.,  4.,  7.,  0.,  4.,  4.,  4.,  0.,\n",
              "         4.,  6.,  8.,  6.,  5.,  0.,  7.,  6.,  5.,  4., 12.,  7.,  4.,\n",
              "         6.,  7.,  1.,  3.,  9.,  3.,  5.,  6.,  3.,  1.,  8.,  2.,  0.,\n",
              "         2.,  2.,  0.,  0.,  0.,  0.,  1.,  3.,  1.,  1.,  1.]),\n",
              " array([2.94 , 2.953, 2.966, 2.979, 2.992, 3.005, 3.018, 3.031, 3.044,\n",
              "        3.057, 3.07 , 3.083, 3.096, 3.109, 3.122, 3.135, 3.148, 3.161,\n",
              "        3.174, 3.187, 3.2  , 3.213, 3.226, 3.239, 3.252, 3.265, 3.278,\n",
              "        3.291, 3.304, 3.317, 3.33 , 3.343, 3.356, 3.369, 3.382, 3.395,\n",
              "        3.408, 3.421, 3.434, 3.447, 3.46 , 3.473, 3.486, 3.499, 3.512,\n",
              "        3.525, 3.538, 3.551, 3.564, 3.577, 3.59 ]),\n",
              " <a list of 50 Patch objects>)"
            ]
          },
          "metadata": {},
          "execution_count": 42
        },
        {
          "output_type": "display_data",
          "data": {
            "text/plain": [
              "<Figure size 648x648 with 1 Axes>"
            ],
            "image/png": "[encoded data removed]"
          },
          "metadata": {
            "needs_background": "light"
          }
        }
      ]
    },
    {
      "cell_type": "code",
      "source": [
        "fig, ax = plt.subplots(figsize = (9,9))\n",
        "plt.title(\"Histograma dos Sulfatos | Classe 3\")\n",
        "plt.ylabel(\"Frequência\")\n",
        "ax.hist(gqw[\"sulphates\"], bins= 50, edgecolor=\"black\", color=\"yellow\")"
      ],
      "metadata": {
        "colab": {
          "base_uri": "https://localhost:8080/",
          "height": 744
        },
        "outputId": "e664d350-9988-41e5-865c-bcb936dde433",
        "id": "VHDaLaV3dNgZ"
      },
      "execution_count": 43,
      "outputs": [
        {
          "output_type": "execute_result",
          "data": {
            "text/plain": [
              "(array([ 3.,  2.,  0.,  1.,  1., 14.,  9.,  6.,  3., 14., 14.,  9.,  5.,\n",
              "         1.,  1., 14.,  7., 15.,  3.,  0.,  4.,  2.,  4.,  3.,  8.,  8.,\n",
              "         1.,  7.,  2.,  0.,  0.,  2.,  2.,  0.,  0.,  3.,  1.,  3.,  1.,\n",
              "         0.,  1.,  0.,  2.,  0.,  0.,  0.,  2.,  0.,  0.,  2.]),\n",
              " array([0.25 , 0.264, 0.278, 0.292, 0.306, 0.32 , 0.334, 0.348, 0.362,\n",
              "        0.376, 0.39 , 0.404, 0.418, 0.432, 0.446, 0.46 , 0.474, 0.488,\n",
              "        0.502, 0.516, 0.53 , 0.544, 0.558, 0.572, 0.586, 0.6  , 0.614,\n",
              "        0.628, 0.642, 0.656, 0.67 , 0.684, 0.698, 0.712, 0.726, 0.74 ,\n",
              "        0.754, 0.768, 0.782, 0.796, 0.81 , 0.824, 0.838, 0.852, 0.866,\n",
              "        0.88 , 0.894, 0.908, 0.922, 0.936, 0.95 ]),\n",
              " <a list of 50 Patch objects>)"
            ]
          },
          "metadata": {},
          "execution_count": 43
        },
        {
          "output_type": "display_data",
          "data": {
            "text/plain": [
              "<Figure size 648x648 with 1 Axes>"
            ],
            "image/png": "[encoded data removed]"
          },
          "metadata": {
            "needs_background": "light"
          }
        }
      ]
    },
    {
      "cell_type": "code",
      "source": [
        "fig, ax = plt.subplots(figsize = (9,9))\n",
        "plt.title(\"Histograma do Álcool | Classe 3\")\n",
        "plt.ylabel(\"Frequência\")\n",
        "ax.hist(gqw[\"alcohol\"], bins= 50, edgecolor=\"black\", color=\"red\")"
      ],
      "metadata": {
        "colab": {
          "base_uri": "https://localhost:8080/",
          "height": 746
        },
        "outputId": "5e98c6c2-73ee-42b9-91c9-2801adf50dd6",
        "id": "1KB_t8ALdNgZ"
      },
      "execution_count": 44,
      "outputs": [
        {
          "output_type": "execute_result",
          "data": {
            "text/plain": [
              "(array([ 1.,  0., 11.,  6.,  0.,  0.,  0.,  0.,  0.,  0.,  1.,  3.,  0.,\n",
              "         0.,  0.,  0.,  0.,  8.,  4.,  0.,  4.,  3.,  7.,  5.,  6.,  4.,\n",
              "         1.,  6.,  2.,  5., 11.,  5.,  6.,  6.,  7., 10., 11.,  8.,  6.,\n",
              "         9., 12.,  2.,  3.,  0.,  6.,  0.,  0.,  0.,  0.,  1.]),\n",
              " array([ 8.5 ,  8.61,  8.72,  8.83,  8.94,  9.05,  9.16,  9.27,  9.38,\n",
              "         9.49,  9.6 ,  9.71,  9.82,  9.93, 10.04, 10.15, 10.26, 10.37,\n",
              "        10.48, 10.59, 10.7 , 10.81, 10.92, 11.03, 11.14, 11.25, 11.36,\n",
              "        11.47, 11.58, 11.69, 11.8 , 11.91, 12.02, 12.13, 12.24, 12.35,\n",
              "        12.46, 12.57, 12.68, 12.79, 12.9 , 13.01, 13.12, 13.23, 13.34,\n",
              "        13.45, 13.56, 13.67, 13.78, 13.89, 14.  ]),\n",
              " <a list of 50 Patch objects>)"
            ]
          },
          "metadata": {},
          "execution_count": 44
        },
        {
          "output_type": "display_data",
          "data": {
            "text/plain": [
              "<Figure size 648x648 with 1 Axes>"
            ],
            "image/png": "[encoded data removed]"
          },
          "metadata": {
            "needs_background": "light"
          }
        }
      ]
    },
    {
      "cell_type": "code",
      "source": [
        "fig, ax = plt.subplots(figsize = (9,9))\n",
        "plt.title(\"Histograma da Qualidade | Classe 3\")\n",
        "plt.ylabel(\"Frequência\")\n",
        "ax.hist(gqw[\"quality\"], bins= 50, edgecolor=\"black\", color=\"red\")"
      ],
      "metadata": {
        "colab": {
          "base_uri": "https://localhost:8080/",
          "height": 744
        },
        "outputId": "e0500e99-ec05-42bd-a2ca-db421149c46b",
        "id": "NCyRaddNdNgZ"
      },
      "execution_count": 45,
      "outputs": [
        {
          "output_type": "execute_result",
          "data": {
            "text/plain": [
              "(array([175.,   0.,   0.,   0.,   0.,   0.,   0.,   0.,   0.,   0.,   0.,\n",
              "          0.,   0.,   0.,   0.,   0.,   0.,   0.,   0.,   0.,   0.,   0.,\n",
              "          0.,   0.,   0.,   0.,   0.,   0.,   0.,   0.,   0.,   0.,   0.,\n",
              "          0.,   0.,   0.,   0.,   0.,   0.,   0.,   0.,   0.,   0.,   0.,\n",
              "          0.,   0.,   0.,   0.,   0.,   5.]),\n",
              " array([8.  , 8.02, 8.04, 8.06, 8.08, 8.1 , 8.12, 8.14, 8.16, 8.18, 8.2 ,\n",
              "        8.22, 8.24, 8.26, 8.28, 8.3 , 8.32, 8.34, 8.36, 8.38, 8.4 , 8.42,\n",
              "        8.44, 8.46, 8.48, 8.5 , 8.52, 8.54, 8.56, 8.58, 8.6 , 8.62, 8.64,\n",
              "        8.66, 8.68, 8.7 , 8.72, 8.74, 8.76, 8.78, 8.8 , 8.82, 8.84, 8.86,\n",
              "        8.88, 8.9 , 8.92, 8.94, 8.96, 8.98, 9.  ]),\n",
              " <a list of 50 Patch objects>)"
            ]
          },
          "metadata": {},
          "execution_count": 45
        },
        {
          "output_type": "display_data",
          "data": {
            "text/plain": [
              "<Figure size 648x648 with 1 Axes>"
            ],
            "image/png": "[encoded data removed]"
          },
          "metadata": {
            "needs_background": "light"
          }
        }
      ]
    },
    {
      "cell_type": "markdown",
      "source": [
        "TIPO 3 MEAN"
      ],
      "metadata": {
        "id": "WpSozopuDFy5"
      }
    },
    {
      "cell_type": "code",
      "source": [
        "gfa_mean = gqw[\"fixed acidity\"].mean()\n",
        "gva_mean = gqw[\"volatile acidity\"].mean()\n",
        "gca_mean = gqw[\"citric acid\"].mean()\n",
        "gch_mean = gqw[\"chlorides\"].mean()\n",
        "gfsd_mean = gqw[\"free sulfur dioxide\"].mean()\n",
        "gtsd_mean = gqw[\"total sulfur dioxide\"].mean()\n",
        "gden_mean = gqw[\"density\"].mean()\n",
        "gph_mean = gqw[\"pH\"].mean()\n",
        "gsu_mean = gqw[\"sulphates\"].mean()\n",
        "gal_mean = gqw[\"alcohol\"].mean()"
      ],
      "metadata": {
        "id": "Y9mn-75KDHkv"
      },
      "execution_count": 23,
      "outputs": []
    },
    {
      "cell_type": "markdown",
      "source": [
        "TIPO 3 STANDARD DEVIATION"
      ],
      "metadata": {
        "id": "InoZrBe_D4BM"
      }
    },
    {
      "cell_type": "code",
      "source": [
        "gfa_std = gqw[\"fixed acidity\"].std()\n",
        "gva_std = gqw[\"volatile acidity\"].std()\n",
        "gca_std = gqw[\"citric acid\"].std()\n",
        "gch_std = gqw[\"chlorides\"].std()\n",
        "gfsd_std = gqw[\"free sulfur dioxide\"].std()\n",
        "gtsd_std = gqw[\"total sulfur dioxide\"].std()\n",
        "gden_std = gqw[\"density\"].std()\n",
        "gph_std = gqw[\"pH\"].std()\n",
        "gsu_std = gqw[\"sulphates\"].std()\n",
        "gal_std = gqw[\"alcohol\"].std()"
      ],
      "metadata": {
        "id": "68sJQC12D8Hq"
      },
      "execution_count": 29,
      "outputs": []
    },
    {
      "cell_type": "markdown",
      "source": [
        "TIPO 3 SKEWNESS"
      ],
      "metadata": {
        "id": "fbNdDXQLEK6c"
      }
    },
    {
      "cell_type": "code",
      "source": [
        "gfa_skew = gqw[\"fixed acidity\"].skew()\n",
        "gva_skew = gqw[\"volatile acidity\"].skew()\n",
        "gca_skew = gqw[\"citric acid\"].skew()\n",
        "gch_skew = gqw[\"chlorides\"].skew()\n",
        "gfsd_skew = gqw[\"free sulfur dioxide\"].skew()\n",
        "gtsd_skew = gqw[\"total sulfur dioxide\"].skew()\n",
        "gden_skew = gqw[\"density\"].skew()\n",
        "gph_skew = gqw[\"pH\"].skew()\n",
        "gsu_skew = gqw[\"sulphates\"].skew()\n",
        "gal_skew = gqw[\"alcohol\"].skew()"
      ],
      "metadata": {
        "id": "DxCY9452ENRQ"
      },
      "execution_count": 30,
      "outputs": []
    },
    {
      "cell_type": "markdown",
      "source": [
        "***Table***"
      ],
      "metadata": {
        "id": "zQdBFjpoX7Tw"
      }
    },
    {
      "cell_type": "code",
      "source": [],
      "metadata": {
        "id": "Tk5cHNUHYIW6"
      },
      "execution_count": null,
      "outputs": []
    }
  ]
}